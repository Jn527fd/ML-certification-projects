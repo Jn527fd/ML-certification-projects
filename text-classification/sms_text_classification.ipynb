{
  "cells": [
    {
      "cell_type": "code",
      "execution_count": null,
      "metadata": {
        "id": "8RZOuS9LWQvv"
      },
      "outputs": [],
      "source": [
        "# import libraries\n",
        "try:\n",
        "  # %tensorflow_version only exists in Colab.\n",
        "  !pip install tf-nightly\n",
        "except Exception:\n",
        "  pass\n",
        "import tensorflow as tf\n",
        "import pandas as pd\n",
        "from tensorflow import keras\n",
        "!pip install tensorflow-datasets\n",
        "import tensorflow_datasets as tfds\n",
        "import numpy as np\n",
        "import matplotlib.pyplot as plt\n",
        "\n",
        "print(tf.__version__)"
      ]
    },
    {
      "cell_type": "code",
      "execution_count": null,
      "metadata": {
        "id": "lMHwYXHXCar3"
      },
      "outputs": [],
      "source": [
        "# get data files\n",
        "!wget https://cdn.freecodecamp.org/project-data/sms/train-data.tsv\n",
        "!wget https://cdn.freecodecamp.org/project-data/sms/valid-data.tsv\n",
        "\n",
        "train_file_path = \"train-data.tsv\"\n",
        "test_file_path = \"valid-data.tsv\""
      ]
    },
    {
      "cell_type": "code",
      "execution_count": null,
      "metadata": {
        "id": "g_h508FEClxO"
      },
      "outputs": [],
      "source": [
        "# Load the data into DataFrames\n",
        "train_data = pd.read_csv(train_file_path, sep='\\t', header=None, names=['label', 'message'])\n",
        "test_data = pd.read_csv(test_file_path, sep='\\t', header=None, names=['label', 'message'])\n",
        "\n",
        "# Display the first few rows of the training data\n",
        "print(\"Training Data:\")\n",
        "print(train_data)\n",
        "\n",
        "# Display the first few rows of the test data\n",
        "print(\"\\nTest Data:\")\n",
        "print(test_data)"
      ]
    },
    {
      "cell_type": "code",
      "execution_count": null,
      "metadata": {
        "id": "zOMKywn4zReN"
      },
      "outputs": [],
      "source": [
        "# Mapping for label encoding\n",
        "label_mapping = {'ham': 0, 'spam': 1}\n",
        "\n",
        "# Apply the mapping to both train and test data\n",
        "train_data['label'] = train_data['label'].map(label_mapping)\n",
        "test_data['label'] = test_data['label'].map(label_mapping)\n",
        "\n",
        "print(\"Training Data:\")\n",
        "print(train_data)\n",
        "\n",
        "print(\"\\nTest Data:\")\n",
        "print(test_data)"
      ]
    },
    {
      "cell_type": "code",
      "source": [
        "tokenizer = tf.keras.preprocessing.text.Tokenizer()\n",
        "tokenizer.fit_on_texts(train_data['message'])"
      ],
      "metadata": {
        "id": "0n1ihG9vRBW-"
      },
      "execution_count": null,
      "outputs": []
    },
    {
      "cell_type": "code",
      "source": [
        "X_train = tokenizer.texts_to_sequences(train_data['message'])\n",
        "X_test = tokenizer.texts_to_sequences(test_data['message'])\n",
        "\n",
        "print(X_train[0])"
      ],
      "metadata": {
        "id": "xa_G1SBRQ71D"
      },
      "execution_count": null,
      "outputs": []
    },
    {
      "cell_type": "code",
      "source": [
        "X_train = tf.keras.preprocessing.sequence.pad_sequences(X_train)\n",
        "X_test = tf.keras.preprocessing.sequence.pad_sequences(X_test, maxlen=X_train.shape[1])"
      ],
      "metadata": {
        "id": "PTNVstl0SEkM"
      },
      "execution_count": null,
      "outputs": []
    },
    {
      "cell_type": "code",
      "source": [
        "model = keras.Sequential([\n",
        "    keras.layers.Embedding(input_dim=len(tokenizer.word_index) + 1, output_dim=128),\n",
        "    keras.layers.LSTM(128),\n",
        "    keras.layers.Dense(1, activation='sigmoid')\n",
        "])"
      ],
      "metadata": {
        "id": "ZE8S96NdSQYp"
      },
      "execution_count": null,
      "outputs": []
    },
    {
      "cell_type": "code",
      "source": [
        "model.compile(optimizer='adam', loss='binary_crossentropy', metrics=['accuracy'])"
      ],
      "metadata": {
        "id": "eFOIwQuHSb33"
      },
      "execution_count": null,
      "outputs": []
    },
    {
      "cell_type": "code",
      "source": [
        "model.fit(X_train, train_data['label'], epochs=10, batch_size=64, validation_split=0.2)"
      ],
      "metadata": {
        "id": "3fw4M4s7SiE-"
      },
      "execution_count": null,
      "outputs": []
    },
    {
      "cell_type": "code",
      "source": [
        "loss, accuracy = model.evaluate(X_test, test_data['label'])\n",
        "print(f\"Model Accuracy: {accuracy:.2%}\")"
      ],
      "metadata": {
        "id": "bulkWRPpTbgn"
      },
      "execution_count": null,
      "outputs": []
    },
    {
      "cell_type": "code",
      "source": [
        "probabilities = model.predict(X_test)\n",
        "\n",
        "# Find the maximum probability associated with the label 'spam'\n",
        "max_spam_probability = np.max(probabilities[test_data['label'] == 1])\n",
        "\n",
        "print(f\"Highest Probability for 'spam' Label: {max_spam_probability:.4f}\")"
      ],
      "metadata": {
        "id": "pvB8KQZoXVlE"
      },
      "execution_count": null,
      "outputs": []
    },
    {
      "cell_type": "code",
      "source": [
        "# Predict probabilities on the entire test set\n",
        "probabilities = model.predict(X_test)\n",
        "\n",
        "# Find the highest probability associated with the 'ham' label\n",
        "max_ham_probability = np.max(probabilities[test_data['label'] == 0])\n",
        "\n",
        "print(f\"Highest Probability for 'ham' Label: {1 - max_ham_probability:.4f}\")"
      ],
      "metadata": {
        "id": "FpBpqvl2Xgwl"
      },
      "execution_count": null,
      "outputs": []
    },
    {
      "cell_type": "code",
      "execution_count": null,
      "metadata": {
        "id": "J9tD9yACG6M9"
      },
      "outputs": [],
      "source": [
        "# function to predict messages based on model\n",
        "# (should return list containing prediction and label, ex. [0.008318834938108921, 'ham'])\n",
        "def predict_message(pred_text):\n",
        "    # Tokenize and pad the input text\n",
        "    pred_seq = tokenizer.texts_to_sequences([pred_text])\n",
        "    pred_seq = tf.keras.preprocessing.sequence.pad_sequences(pred_seq, maxlen=X_train.shape[1])\n",
        "\n",
        "    # Make the prediction\n",
        "    probability = model.predict(pred_seq)[0][0]\n",
        "\n",
        "    # Convert probability to 'ham' or 'spam'\n",
        "    prediction_label = 'spam' if probability >= 0.0073 else 'ham'\n",
        "\n",
        "    return [probability, prediction_label]\n",
        "\n",
        "pred_text = \"how are you doing today?\"\n",
        "prediction = predict_message(pred_text)\n",
        "print(prediction)\n"
      ]
    },
    {
      "cell_type": "code",
      "execution_count": null,
      "metadata": {
        "id": "Dxotov85SjsC"
      },
      "outputs": [],
      "source": [
        "# Run this cell to test your function and model. Do not modify contents.\n",
        "def test_predictions():\n",
        "  test_messages = [\"how are you doing today\",\n",
        "                   \"sale today! to stop texts call 98912460324\",\n",
        "                   \"i dont want to go. can we try it a different day? available sat\",\n",
        "                   \"our new mobile video service is live. just install on your phone to start watching.\",\n",
        "                   \"you have won £1000 cash! call to claim your prize.\",\n",
        "                   \"i'll bring it tomorrow. don't forget the milk.\",\n",
        "                   \"wow, is your arm alright. that happened to me one time too\"\n",
        "                  ]\n",
        "\n",
        "  test_answers = [\"ham\", \"spam\", \"ham\", \"spam\", \"spam\", \"ham\", \"ham\"]\n",
        "  passed = True\n",
        "\n",
        "  for msg, ans in zip(test_messages, test_answers):\n",
        "    print(msg)\n",
        "    prediction = predict_message(msg)\n",
        "    print(\"Prediction: {}\".format(prediction))\n",
        "    print(\"Actual: {}\\n\".format(ans))\n",
        "    if prediction[1] != ans:\n",
        "      passed = False\n",
        "\n",
        "  if passed:\n",
        "    print(\"You passed the challenge. Great job!\")\n",
        "  else:\n",
        "    print(\"You haven't passed yet. Keep trying.\")\n",
        "\n",
        "test_predictions()\n"
      ]
    }
  ],
  "metadata": {
    "colab": {
      "private_outputs": true,
      "provenance": []
    },
    "kernelspec": {
      "display_name": "Python 3",
      "name": "python3"
    },
    "language_info": {}
  },
  "nbformat": 4,
  "nbformat_minor": 0
}